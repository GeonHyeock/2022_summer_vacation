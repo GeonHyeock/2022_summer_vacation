{
 "cells": [
  {
   "cell_type": "code",
   "execution_count": 28,
   "id": "91e5719b",
   "metadata": {
    "ExecuteTime": {
     "end_time": "2022-06-27T09:24:38.546285Z",
     "start_time": "2022-06-27T09:24:38.536166Z"
    }
   },
   "outputs": [
    {
     "name": "stdout",
     "output_type": "stream",
     "text": [
      "Hello, My name is son. I play in FW in center\n",
      "선수의 등번호를 변경합니다. : From 7 to 10\n"
     ]
    }
   ],
   "source": [
    "class SoccerPlayer():\n",
    "    def __init__(self, name : str, position : str,back_number : int):\n",
    "        self.name = name\n",
    "        self.position = position\n",
    "        self.back_number = back_number\n",
    "    \n",
    "    def __str__(self):\n",
    "        return \"Hello, My name is %s. I play in %s in center\" % (self.name,self.position)\n",
    "    \n",
    "    def __add__(self,other):\n",
    "        return self.name + other.name\n",
    "\n",
    "    def change_back_number(self, new_number):\n",
    "        print(\"선수의 등번호를 변경합니다. : From %d to %d\" %(self.back_number, new_number))\n",
    "        self.back_number = new_number\n",
    "        \n",
    "abc = SoccerPlayer(\"son\",\"FW\",7)\n",
    "kein = SoccerPlayer(\"park\",\"WF\",13)\n",
    "\n",
    "print(abc)\n",
    "abc.change_back_number(10)"
   ]
  },
  {
   "cell_type": "code",
   "execution_count": 31,
   "id": "f7aeff93",
   "metadata": {
    "ExecuteTime": {
     "end_time": "2022-06-27T09:44:33.564359Z",
     "start_time": "2022-06-27T09:44:33.531947Z"
    }
   },
   "outputs": [],
   "source": [
    "class Note():\n",
    "    def __init__(self,content = None):\n",
    "        self.content = content\n",
    "    \n",
    "    def write_content(new_content):\n",
    "        self.content = new_content\n",
    "        \n",
    "    def remove_all():\n",
    "        self.content = \"\"\n",
    "    \n",
    "    def __add__(self, other):\n",
    "        return self.content + other.content\n",
    "    \n",
    "    def __str__(self):\n",
    "        return self.content\n",
    "\n",
    "class NoteBook():\n",
    "    def __init__(self,title):\n",
    "        self.title = title\n",
    "        self.page_number = 1\n",
    "        self.notes = {}\n",
    "    \n",
    "    def add_note(self,note,page = 0):\n",
    "        if self.page_number < 300:\n",
    "            if page == 0:\n",
    "                self.notes[self.page_number] = note\n",
    "                self.page_number += 1\n",
    "            else:\n",
    "                self.notes = {page: note}\n",
    "                self.page_number += 1\n",
    "        else:\n",
    "            print(\"Page가 모두 채워졌습니다.\")\n",
    "            \n",
    "    def remove_note(self, page_number):\n",
    "        if page_number in self.notes.keys():\n",
    "            return self.notes.pop(page_number)\n",
    "        else:\n",
    "            print(\"해당 페이지는 존재하지 않습니다.\")\n",
    "    \n",
    "    def get_number_of_pages(self):\n",
    "        return len(self.notes.keys())"
   ]
  },
  {
   "cell_type": "code",
   "execution_count": 47,
   "id": "a2a0136f",
   "metadata": {
    "ExecuteTime": {
     "end_time": "2022-06-27T10:07:44.487515Z",
     "start_time": "2022-06-27T10:07:44.478107Z"
    }
   },
   "outputs": [],
   "source": [
    "class Person():\n",
    "    def __init__(self,name,age,gender):\n",
    "        self.name = name\n",
    "        self.age = age\n",
    "        self.gender = gender\n",
    "        \n",
    "    def about_me(self):\n",
    "        print(f\"저의 이름은 {self.name} 이구요, 제 나이는 {self.age}살 입니다.\")\n",
    "    \n",
    "    def __str__(self):\n",
    "        return f\"저의 이름은 {self.name} 이구요, 제 나이는 {self.age}살 입니다.\"\n",
    "\n",
    "class Employee(Person):\n",
    "    def __init__(self,name,age, gender,salary,hire_date):\n",
    "        super().__init__(name,age,gender)\n",
    "        self.salary = salary\n",
    "        self.hire_date = hire_date\n",
    "    \n",
    "    def do_work(self):\n",
    "        print(\"열심히 일을 합니다.\")\n",
    "    \n",
    "    def about_me(self):\n",
    "        super().about_me()\n",
    "        print(f\"제 급여는 {self.salary}원 이구요 제 입사일은 {self.hire_date}입니다.\")"
   ]
  },
  {
   "cell_type": "code",
   "execution_count": 50,
   "id": "94f04a17",
   "metadata": {
    "ExecuteTime": {
     "end_time": "2022-06-27T10:07:52.858204Z",
     "start_time": "2022-06-27T10:07:52.853361Z"
    }
   },
   "outputs": [
    {
     "name": "stdout",
     "output_type": "stream",
     "text": [
      "저의 이름은 John 이구요, 제 나이는 34살 입니다.\n",
      "저의 이름은 Daeho 이구요, 제 나이는 34살 입니다.\n",
      "제 급여는 30000원 이구요 제 입사일은 2012/03/01입니다.\n"
     ]
    }
   ],
   "source": [
    "myPerson = Person(\"John\",34,\"Male\")\n",
    "myPerson.about_me()\n",
    "\n",
    "myEmployee = Employee(\"Daeho\", 34, \"Male\", 30000, \"2012/03/01\")\n",
    "myEmployee.about_me()"
   ]
  },
  {
   "cell_type": "code",
   "execution_count": 63,
   "id": "4e44f42b",
   "metadata": {
    "ExecuteTime": {
     "end_time": "2022-06-27T10:14:46.916154Z",
     "start_time": "2022-06-27T10:14:46.905054Z"
    }
   },
   "outputs": [
    {
     "name": "stdout",
     "output_type": "stream",
     "text": [
      "Missy: Meow!\n",
      "Mr. Mistoffelees: Meow!\n",
      "Lassie: Woof! woof!\n"
     ]
    }
   ],
   "source": [
    "# 다형성\n",
    "\n",
    "class Animal:\n",
    "    def __init__(self,name):\n",
    "        self.name = name\n",
    "    \n",
    "    def talk(self):\n",
    "        raise NotImplementedError(\"Subclass must implement abstract method\")\n",
    "        \n",
    "class Cat(Animal):\n",
    "    def talk(self):\n",
    "        return \"Meow!\"\n",
    "\n",
    "class Dog(Animal):\n",
    "    def talk(self):\n",
    "        return \"Woof! woof!\"\n",
    "\n",
    "animals = [Cat(\"Missy\"),\n",
    "          Cat(\"Mr. Mistoffelees\"),\n",
    "          Dog(\"Lassie\")]\n",
    "\n",
    "for A in animals:\n",
    "    print(A.name + \": \" + A.talk())"
   ]
  },
  {
   "cell_type": "code",
   "execution_count": 89,
   "id": "8e5186de",
   "metadata": {
    "ExecuteTime": {
     "end_time": "2022-06-27T10:31:13.963426Z",
     "start_time": "2022-06-27T10:31:13.951014Z"
    }
   },
   "outputs": [
    {
     "name": "stdout",
     "output_type": "stream",
     "text": [
      "New item added\n",
      "New item added\n"
     ]
    },
    {
     "data": {
      "text/plain": [
       "[<__main__.Product at 0x7fd88a0cfe80>, <__main__.Product at 0x7fd88a0cfeb0>]"
      ]
     },
     "execution_count": 89,
     "metadata": {},
     "output_type": "execute_result"
    }
   ],
   "source": [
    "class Product:\n",
    "    pass\n",
    "\n",
    "class Inventory(object):\n",
    "    def __init__(self):\n",
    "        self.__items = []\n",
    "        self.test = \"abc\"\n",
    "    \n",
    "    def add_new_item(self, product):\n",
    "        if type(product) == Product:\n",
    "            self.__items.append(product)\n",
    "            print(\"New item added\")\n",
    "        else:\n",
    "            raise ValueError(\"Invalid Item\")\n",
    "    def get_number_of_items(self):\n",
    "        return len(self.__items)\n",
    "    \n",
    "    @property\n",
    "    def items(self):\n",
    "        return self.__items\n",
    "    \n",
    "my_inventory = Inventory()\n",
    "my_inventory.add_new_item(Product())\n",
    "my_inventory.add_new_item(Product())\n",
    "my_inventory.items\n"
   ]
  },
  {
   "cell_type": "code",
   "execution_count": 90,
   "id": "0b0533c0",
   "metadata": {
    "ExecuteTime": {
     "end_time": "2022-06-27T10:42:42.965307Z",
     "start_time": "2022-06-27T10:42:42.958954Z"
    }
   },
   "outputs": [
    {
     "name": "stdout",
     "output_type": "stream",
     "text": [
      "******************************\n",
      "Hello\n",
      "******************************\n"
     ]
    }
   ],
   "source": [
    "#데코레이터\n",
    "\n",
    "def star(func):\n",
    "    def inner(*args, **kwargs):\n",
    "        print(\"*\" * 30)\n",
    "        func(*args, **kwargs)\n",
    "        print(\"*\" * 30)\n",
    "    return inner\n",
    "\n",
    "@star\n",
    "def printer(msg):\n",
    "    print(msg)\n",
    "    \n",
    "    \n",
    "printer(\"Hello\")"
   ]
  },
  {
   "cell_type": "code",
   "execution_count": null,
   "id": "751b26f4",
   "metadata": {},
   "outputs": [],
   "source": []
  }
 ],
 "metadata": {
  "kernelspec": {
   "display_name": "Python 3 (ipykernel)",
   "language": "python",
   "name": "python3"
  },
  "language_info": {
   "codemirror_mode": {
    "name": "ipython",
    "version": 3
   },
   "file_extension": ".py",
   "mimetype": "text/x-python",
   "name": "python",
   "nbconvert_exporter": "python",
   "pygments_lexer": "ipython3",
   "version": "3.9.7"
  },
  "toc": {
   "base_numbering": 1,
   "nav_menu": {},
   "number_sections": true,
   "sideBar": true,
   "skip_h1_title": false,
   "title_cell": "Table of Contents",
   "title_sidebar": "Contents",
   "toc_cell": false,
   "toc_position": {},
   "toc_section_display": true,
   "toc_window_display": false
  },
  "varInspector": {
   "cols": {
    "lenName": 16,
    "lenType": 16,
    "lenVar": 40
   },
   "kernels_config": {
    "python": {
     "delete_cmd_postfix": "",
     "delete_cmd_prefix": "del ",
     "library": "var_list.py",
     "varRefreshCmd": "print(var_dic_list())"
    },
    "r": {
     "delete_cmd_postfix": ") ",
     "delete_cmd_prefix": "rm(",
     "library": "var_list.r",
     "varRefreshCmd": "cat(var_dic_list()) "
    }
   },
   "types_to_exclude": [
    "module",
    "function",
    "builtin_function_or_method",
    "instance",
    "_Feature"
   ],
   "window_display": false
  }
 },
 "nbformat": 4,
 "nbformat_minor": 5
}
