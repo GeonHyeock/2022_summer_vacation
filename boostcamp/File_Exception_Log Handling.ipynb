{
 "cells": [
  {
   "cell_type": "markdown",
   "id": "4944d6d3",
   "metadata": {},
   "source": [
    "# exception handling"
   ]
  },
  {
   "cell_type": "code",
   "execution_count": 10,
   "id": "ed5bc37a",
   "metadata": {
    "ExecuteTime": {
     "end_time": "2022-06-29T09:06:48.863392Z",
     "start_time": "2022-06-29T09:06:48.856335Z"
    }
   },
   "outputs": [
    {
     "name": "stdout",
     "output_type": "stream",
     "text": [
      "Not divided zero\n",
      "10.0\n",
      "2\n",
      "name 'v' is not defined\n",
      "5.0\n",
      "3\n",
      "name 'v' is not defined\n",
      "3.3333333333333335\n",
      "4\n",
      "name 'v' is not defined\n",
      "2.5\n",
      "5\n",
      "name 'v' is not defined\n",
      "2.0\n",
      "list index out of range\n",
      "1.6666666666666667\n",
      "list index out of range\n",
      "1.4285714285714286\n",
      "list index out of range\n",
      "1.25\n",
      "list index out of range\n",
      "1.1111111111111112\n",
      "list index out of range\n"
     ]
    }
   ],
   "source": [
    "a = [1,2,3,4,5]\n",
    "\n",
    "for i in range(10):\n",
    "    try:\n",
    "        print(10 / i)\n",
    "        print(a[i])\n",
    "        print(v)\n",
    "    except ZeroDivisionError:\n",
    "        print(\"Not divided zero\")\n",
    "\n",
    "    except IndexError as e:\n",
    "        print(e)\n",
    "    \n",
    "    except Exception as e:\n",
    "        print(e)\n"
   ]
  },
  {
   "cell_type": "code",
   "execution_count": 21,
   "id": "2461664c",
   "metadata": {
    "ExecuteTime": {
     "end_time": "2022-06-29T11:06:33.138124Z",
     "start_time": "2022-06-29T11:06:33.132328Z"
    }
   },
   "outputs": [
    {
     "name": "stdout",
     "output_type": "stream",
     "text": [
      "0으로 못나눠!\n",
      "----------\n",
      "10\n",
      "----------\n",
      "5\n",
      "----------\n",
      "3\n",
      "----------\n",
      "2\n",
      "----------\n",
      "2\n",
      "----------\n",
      "1\n",
      "----------\n",
      "1\n",
      "----------\n",
      "1\n",
      "----------\n",
      "1\n",
      "----------\n"
     ]
    }
   ],
   "source": [
    "for i in range(10):\n",
    "    try:\n",
    "        10 // i\n",
    "    except ZeroDivisionError:\n",
    "        print(\"0으로 못나눠!\")\n",
    "    else:\n",
    "        print(10 // i)\n",
    "    finally:\n",
    "        print(\"-\"*10)"
   ]
  },
  {
   "cell_type": "code",
   "execution_count": 12,
   "id": "25d282ea",
   "metadata": {
    "ExecuteTime": {
     "end_time": "2022-06-29T09:16:02.467874Z",
     "start_time": "2022-06-29T09:16:01.703465Z"
    }
   },
   "outputs": [
    {
     "name": "stdout",
     "output_type": "stream",
     "text": [
      "변환할 정수 값을 입력해주세요.a\n"
     ]
    },
    {
     "ename": "ValueError",
     "evalue": "숫자값을 입력하지 않으셨습니다.",
     "output_type": "error",
     "traceback": [
      "\u001b[0;31m---------------------------------------------------------------------------\u001b[0m",
      "\u001b[0;31mValueError\u001b[0m                                Traceback (most recent call last)",
      "\u001b[0;32m/var/folders/cr/vgd3vv5x2hqg3rzq2ts_7wsr0000gn/T/ipykernel_25531/3625147339.py\u001b[0m in \u001b[0;36m<module>\u001b[0;34m\u001b[0m\n\u001b[1;32m      3\u001b[0m     \u001b[0;32mfor\u001b[0m \u001b[0mdigit\u001b[0m \u001b[0;32min\u001b[0m \u001b[0mvalue\u001b[0m\u001b[0;34m:\u001b[0m\u001b[0;34m\u001b[0m\u001b[0;34m\u001b[0m\u001b[0m\n\u001b[1;32m      4\u001b[0m         \u001b[0;32mif\u001b[0m \u001b[0mdigit\u001b[0m \u001b[0;32mnot\u001b[0m \u001b[0;32min\u001b[0m \u001b[0;34m\"0123456789\"\u001b[0m\u001b[0;34m:\u001b[0m\u001b[0;34m\u001b[0m\u001b[0;34m\u001b[0m\u001b[0m\n\u001b[0;32m----> 5\u001b[0;31m             \u001b[0;32mraise\u001b[0m \u001b[0mValueError\u001b[0m\u001b[0;34m(\u001b[0m\u001b[0;34m\"숫자값을 입력하지 않으셨습니다.\"\u001b[0m\u001b[0;34m)\u001b[0m\u001b[0;34m\u001b[0m\u001b[0;34m\u001b[0m\u001b[0m\n\u001b[0m\u001b[1;32m      6\u001b[0m         \u001b[0mprint\u001b[0m\u001b[0;34m(\u001b[0m\u001b[0;34m\"정수값으로 변환된 숫자 -\"\u001b[0m\u001b[0;34m,\u001b[0m \u001b[0mint\u001b[0m\u001b[0;34m(\u001b[0m\u001b[0mvalue\u001b[0m\u001b[0;34m)\u001b[0m\u001b[0;34m)\u001b[0m\u001b[0;34m\u001b[0m\u001b[0;34m\u001b[0m\u001b[0m\n",
      "\u001b[0;31mValueError\u001b[0m: 숫자값을 입력하지 않으셨습니다."
     ]
    }
   ],
   "source": [
    "while True:\n",
    "    value = input(\"변환할 정수 값을 입력해주세요.\")\n",
    "    for digit in value:\n",
    "        if digit not in \"0123456789\":\n",
    "            raise ValueError(\"숫자값을 입력하지 않으셨습니다.\")\n",
    "        print(\"정수값으로 변환된 숫자 -\", int(value))"
   ]
  },
  {
   "cell_type": "code",
   "execution_count": 18,
   "id": "29e03fac",
   "metadata": {
    "ExecuteTime": {
     "end_time": "2022-06-29T11:04:13.955912Z",
     "start_time": "2022-06-29T11:04:13.938818Z"
    }
   },
   "outputs": [
    {
     "ename": "AssertionError",
     "evalue": "",
     "output_type": "error",
     "traceback": [
      "\u001b[0;31m---------------------------------------------------------------------------\u001b[0m",
      "\u001b[0;31mAssertionError\u001b[0m                            Traceback (most recent call last)",
      "\u001b[0;32m/var/folders/cr/vgd3vv5x2hqg3rzq2ts_7wsr0000gn/T/ipykernel_25531/515611149.py\u001b[0m in \u001b[0;36m<module>\u001b[0;34m\u001b[0m\n\u001b[1;32m      3\u001b[0m     \u001b[0;32mreturn\u001b[0m \u001b[0mbin\u001b[0m\u001b[0;34m(\u001b[0m\u001b[0mdecimal_number\u001b[0m\u001b[0;34m)\u001b[0m\u001b[0;34m\u001b[0m\u001b[0;34m\u001b[0m\u001b[0m\n\u001b[1;32m      4\u001b[0m \u001b[0;34m\u001b[0m\u001b[0m\n\u001b[0;32m----> 5\u001b[0;31m \u001b[0mprint\u001b[0m\u001b[0;34m(\u001b[0m\u001b[0mget_binary_number\u001b[0m\u001b[0;34m(\u001b[0m\u001b[0;36m10.0\u001b[0m\u001b[0;34m)\u001b[0m\u001b[0;34m)\u001b[0m\u001b[0;34m\u001b[0m\u001b[0;34m\u001b[0m\u001b[0m\n\u001b[0m",
      "\u001b[0;32m/var/folders/cr/vgd3vv5x2hqg3rzq2ts_7wsr0000gn/T/ipykernel_25531/515611149.py\u001b[0m in \u001b[0;36mget_binary_number\u001b[0;34m(decimal_number)\u001b[0m\n\u001b[1;32m      1\u001b[0m \u001b[0;32mdef\u001b[0m \u001b[0mget_binary_number\u001b[0m\u001b[0;34m(\u001b[0m\u001b[0mdecimal_number\u001b[0m \u001b[0;34m:\u001b[0m \u001b[0mint\u001b[0m\u001b[0;34m)\u001b[0m\u001b[0;34m:\u001b[0m\u001b[0;34m\u001b[0m\u001b[0;34m\u001b[0m\u001b[0m\n\u001b[0;32m----> 2\u001b[0;31m     \u001b[0;32massert\u001b[0m \u001b[0misinstance\u001b[0m\u001b[0;34m(\u001b[0m\u001b[0mdecimal_number\u001b[0m\u001b[0;34m,\u001b[0m\u001b[0mint\u001b[0m\u001b[0;34m)\u001b[0m\u001b[0;34m\u001b[0m\u001b[0;34m\u001b[0m\u001b[0m\n\u001b[0m\u001b[1;32m      3\u001b[0m     \u001b[0;32mreturn\u001b[0m \u001b[0mbin\u001b[0m\u001b[0;34m(\u001b[0m\u001b[0mdecimal_number\u001b[0m\u001b[0;34m)\u001b[0m\u001b[0;34m\u001b[0m\u001b[0;34m\u001b[0m\u001b[0m\n\u001b[1;32m      4\u001b[0m \u001b[0;34m\u001b[0m\u001b[0m\n\u001b[1;32m      5\u001b[0m \u001b[0mprint\u001b[0m\u001b[0;34m(\u001b[0m\u001b[0mget_binary_number\u001b[0m\u001b[0;34m(\u001b[0m\u001b[0;36m10.0\u001b[0m\u001b[0;34m)\u001b[0m\u001b[0;34m)\u001b[0m\u001b[0;34m\u001b[0m\u001b[0;34m\u001b[0m\u001b[0m\n",
      "\u001b[0;31mAssertionError\u001b[0m: "
     ]
    }
   ],
   "source": [
    "def get_binary_number(decimal_number : int):\n",
    "    assert isinstance(decimal_number,int)\n",
    "    return bin(decimal_number)\n",
    "\n",
    "print(get_binary_number(10.0))"
   ]
  },
  {
   "cell_type": "markdown",
   "id": "5b668dbd",
   "metadata": {
    "ExecuteTime": {
     "end_time": "2022-06-29T11:06:55.720567Z",
     "start_time": "2022-06-29T11:06:55.717568Z"
    }
   },
   "source": [
    "# File handling"
   ]
  },
  {
   "cell_type": "code",
   "execution_count": 29,
   "id": "e2cfcce7",
   "metadata": {
    "ExecuteTime": {
     "end_time": "2022-06-29T11:10:48.148715Z",
     "start_time": "2022-06-29T11:10:48.144030Z"
    }
   },
   "outputs": [],
   "source": [
    "with open(\"test.txt\",\"w\",encoding = \"utf8\") as f:\n",
    "    for i in range(1,11):\n",
    "        data = f\"{i}번째 줄입니다. \\n\"\n",
    "        f.write(data)\n"
   ]
  },
  {
   "cell_type": "code",
   "execution_count": 31,
   "id": "5696216f",
   "metadata": {
    "ExecuteTime": {
     "end_time": "2022-06-29T11:11:41.566677Z",
     "start_time": "2022-06-29T11:11:41.561509Z"
    }
   },
   "outputs": [
    {
     "name": "stdout",
     "output_type": "stream",
     "text": [
      "<class 'str'>\n",
      "1번째 줄입니다. \n",
      "2번째 줄입니다. \n",
      "3번째 줄입니다. \n",
      "4번째 줄입니다. \n",
      "5번째 줄입니다. \n",
      "6번째 줄입니다. \n",
      "7번째 줄입니다. \n",
      "8번째 줄입니다. \n",
      "9번째 줄입니다. \n",
      "10번째 줄입니다. \n",
      "\n"
     ]
    }
   ],
   "source": [
    "with open(\"test.txt\",\"r\") as f:\n",
    "    contents = f.read()\n",
    "print(type(contents))\n",
    "print(contents)"
   ]
  },
  {
   "cell_type": "code",
   "execution_count": 33,
   "id": "87675568",
   "metadata": {
    "ExecuteTime": {
     "end_time": "2022-06-29T11:12:16.597435Z",
     "start_time": "2022-06-29T11:12:16.592977Z"
    }
   },
   "outputs": [
    {
     "name": "stdout",
     "output_type": "stream",
     "text": [
      "['1번째 줄입니다. \\n', '2번째 줄입니다. \\n', '3번째 줄입니다. \\n', '4번째 줄입니다. \\n', '5번째 줄입니다. \\n', '6번째 줄입니다. \\n', '7번째 줄입니다. \\n', '8번째 줄입니다. \\n', '9번째 줄입니다. \\n', '10번째 줄입니다. \\n']\n"
     ]
    }
   ],
   "source": [
    "with open(\"test.txt\",\"r\") as f:\n",
    "    content_list = f.readlines()\n",
    "    print(content_list)"
   ]
  },
  {
   "cell_type": "code",
   "execution_count": 34,
   "id": "e12d87a6",
   "metadata": {
    "ExecuteTime": {
     "end_time": "2022-06-29T11:14:10.851826Z",
     "start_time": "2022-06-29T11:14:10.847781Z"
    }
   },
   "outputs": [],
   "source": [
    "with open(\"test.txt\",\"a\") as f:\n",
    "    f.write(\"끝\")\n",
    "    "
   ]
  },
  {
   "cell_type": "code",
   "execution_count": 37,
   "id": "5b0c5ca1",
   "metadata": {
    "ExecuteTime": {
     "end_time": "2022-06-29T11:15:24.407868Z",
     "start_time": "2022-06-29T11:15:24.403796Z"
    }
   },
   "outputs": [],
   "source": [
    "import os\n",
    "if not os.path.isdir(\"log\"):\n",
    "    os.mkdir(\"log\")"
   ]
  },
  {
   "cell_type": "code",
   "execution_count": 56,
   "id": "fb8a7265",
   "metadata": {
    "ExecuteTime": {
     "end_time": "2022-06-29T11:18:25.517406Z",
     "start_time": "2022-06-29T11:18:25.508374Z"
    }
   },
   "outputs": [
    {
     "name": "stdout",
     "output_type": "stream",
     "text": [
      "cwd :  /Users/heogeonhyeock/Desktop/2022_summer_vacation/boostcamp\n",
      "cwd.parent :  /Users/heogeonhyeock/Desktop/2022_summer_vacation \n",
      "\n",
      "cwd.parents :  [PosixPath('/Users/heogeonhyeock/Desktop/2022_summer_vacation'), PosixPath('/Users/heogeonhyeock/Desktop'), PosixPath('/Users/heogeonhyeock'), PosixPath('/Users'), PosixPath('/')] \n",
      "\n",
      "[PosixPath('/Users/heogeonhyeock/Desktop/2022_summer_vacation/boostcamp/.DS_Store'), PosixPath('/Users/heogeonhyeock/Desktop/2022_summer_vacation/boostcamp/Untitled.ipynb'), PosixPath('/Users/heogeonhyeock/Desktop/2022_summer_vacation/boostcamp/ Python Object Oriented Programming.ipynb'), PosixPath('/Users/heogeonhyeock/Desktop/2022_summer_vacation/boostcamp/log'), PosixPath('/Users/heogeonhyeock/Desktop/2022_summer_vacation/boostcamp/test.txt'), PosixPath('/Users/heogeonhyeock/Desktop/2022_summer_vacation/boostcamp/.ipynb_checkpoints'), PosixPath('/Users/heogeonhyeock/Desktop/2022_summer_vacation/boostcamp/Python data handling.ipynb')]\n"
     ]
    }
   ],
   "source": [
    "import pathlib\n",
    "cwd = pathlib.Path.cwd()\n",
    "print(\"cwd : \", cwd)\n",
    "print(\"cwd.parent : \", cwd.parent,\"\\n\")\n",
    "print(\"cwd.parents : \", list(cwd.parents), \"\\n\")\n",
    "print(list(cwd.glob(\"*\")))"
   ]
  },
  {
   "cell_type": "code",
   "execution_count": 59,
   "id": "eba88d53",
   "metadata": {
    "ExecuteTime": {
     "end_time": "2022-06-29T11:26:33.201613Z",
     "start_time": "2022-06-29T11:26:33.193460Z"
    }
   },
   "outputs": [],
   "source": [
    "import os\n",
    "if not os.path.isdir(\"log\"):\n",
    "    os.mkdir(\"log\")\n",
    "if not os.path.exists(\"log/count_log.txt\"):\n",
    "    f = open(\"log/count_log.txt\",\"w\",encoding=\"utf8\")\n",
    "    f.write(\"기록이 시작됩니다. \\n\")\n",
    "    f.close()\n",
    "        \n",
    "with open(\"log/count_log.txt\",\"a\",encoding=\"utf8\") as f:\n",
    "    import random, datetime\n",
    "    for i in range(1,11):\n",
    "        stamp = str(datetime.datetime.now())\n",
    "        value = random.random() * 1000\n",
    "        log_line = stamp + \"\\t\" + str(value) + \"값이 생성되었습니다. \\n\"\n",
    "        f.write(log_line)"
   ]
  },
  {
   "cell_type": "markdown",
   "id": "2f2cb171",
   "metadata": {},
   "source": [
    "# log handling"
   ]
  },
  {
   "cell_type": "code",
   "execution_count": 76,
   "id": "01afe41d",
   "metadata": {
    "ExecuteTime": {
     "end_time": "2022-06-29T11:32:24.122551Z",
     "start_time": "2022-06-29T11:32:24.118078Z"
    }
   },
   "outputs": [],
   "source": [
    "import logging\n",
    "\n",
    "def my_log():\n",
    "    logging.debug(\"틀림\")\n",
    "    logging.info(\"확인해\")\n",
    "    logging.warning(\"조심해\")\n",
    "    logging.error(\"에러남\")\n",
    "    logging.critical(\"망함\")"
   ]
  },
  {
   "cell_type": "code",
   "execution_count": 79,
   "id": "7032fd72",
   "metadata": {
    "ExecuteTime": {
     "end_time": "2022-06-29T11:32:43.723960Z",
     "start_time": "2022-06-29T11:32:43.717608Z"
    }
   },
   "outputs": [
    {
     "name": "stderr",
     "output_type": "stream",
     "text": [
      "WARNING:root:조심해\n",
      "ERROR:root:에러남\n",
      "CRITICAL:root:망함\n"
     ]
    }
   ],
   "source": [
    "logger = logging.getLogger(\"main\")\n",
    "stream_hander = logging.StreamHandler()\n",
    "logger.addHandler(stream_hander)\n",
    "\n",
    "logger.setLevel(logging.WARNING)\n",
    "my_log()"
   ]
  },
  {
   "cell_type": "code",
   "execution_count": null,
   "id": "fdf9eb6e",
   "metadata": {},
   "outputs": [],
   "source": []
  }
 ],
 "metadata": {
  "kernelspec": {
   "display_name": "Python 3 (ipykernel)",
   "language": "python",
   "name": "python3"
  },
  "language_info": {
   "codemirror_mode": {
    "name": "ipython",
    "version": 3
   },
   "file_extension": ".py",
   "mimetype": "text/x-python",
   "name": "python",
   "nbconvert_exporter": "python",
   "pygments_lexer": "ipython3",
   "version": "3.9.7"
  },
  "toc": {
   "base_numbering": 1,
   "nav_menu": {},
   "number_sections": true,
   "sideBar": true,
   "skip_h1_title": false,
   "title_cell": "Table of Contents",
   "title_sidebar": "Contents",
   "toc_cell": false,
   "toc_position": {},
   "toc_section_display": true,
   "toc_window_display": false
  },
  "varInspector": {
   "cols": {
    "lenName": 16,
    "lenType": 16,
    "lenVar": 40
   },
   "kernels_config": {
    "python": {
     "delete_cmd_postfix": "",
     "delete_cmd_prefix": "del ",
     "library": "var_list.py",
     "varRefreshCmd": "print(var_dic_list())"
    },
    "r": {
     "delete_cmd_postfix": ") ",
     "delete_cmd_prefix": "rm(",
     "library": "var_list.r",
     "varRefreshCmd": "cat(var_dic_list()) "
    }
   },
   "types_to_exclude": [
    "module",
    "function",
    "builtin_function_or_method",
    "instance",
    "_Feature"
   ],
   "window_display": false
  }
 },
 "nbformat": 4,
 "nbformat_minor": 5
}
