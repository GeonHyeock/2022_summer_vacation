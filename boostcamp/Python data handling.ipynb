{
 "cells": [
  {
   "cell_type": "markdown",
   "id": "42dd4d01",
   "metadata": {},
   "source": [
    "# csv"
   ]
  },
  {
   "cell_type": "code",
   "execution_count": 4,
   "id": "fb095808",
   "metadata": {
    "ExecuteTime": {
     "end_time": "2022-06-30T08:38:27.209683Z",
     "start_time": "2022-06-30T08:38:27.198240Z"
    }
   },
   "outputs": [
    {
     "name": "stdout",
     "output_type": "stream",
     "text": [
      "Header :  ['customerNumber', 'customerName', 'contactLastName', 'contactFirstName', 'phone', 'addressLine1', 'addressLine2', 'city', 'state', 'postalCode', 'country', 'salesRepEmployeeNumber', 'creditLimit\\n']\n",
      "Data 0 :\t ['103', '\"Atelier graphique\"', 'Schmitt', '\"Carine \"', '40.32.2555', '\"54', ' rue Royale\"', 'NULL', 'Nantes', 'NULL', '44000', 'France', '1370', '21000\\n']\n",
      "Data 1 :\t ['112', '\"Signal Gift Stores\"', 'King', 'Jean', '7025551838', '\"8489 Strong St.\"', 'NULL', '\"Las Vegas\"', 'NV', '83030', 'USA', '1166', '71800\\n']\n",
      "Data 2 :\t ['114', '\"Australian Collectors', ' Co.\"', 'Ferguson', 'Peter', '\"03 9520 4555\"', '\"636 St Kilda Road\"', '\"Level 3\"', 'Melbourne', 'Victoria', '3004', 'Australia', '1611', '117300\\n']\n",
      "Data 3 :\t ['119', '\"La Rochelle Gifts\"', 'Labrune', '\"Janine \"', '40.67.8555', '\"67', ' rue des Cinquante Otages\"', 'NULL', 'Nantes', 'NULL', '44000', 'France', '1370', '118200\\n']\n",
      "Data 4 :\t ['121', '\"Baane Mini Imports\"', 'Bergulfsen', '\"Jonas \"', '\"07-98 9555\"', '\"Erling Skakkes gate 78\"', 'NULL', 'Stavern', 'NULL', '4110', 'Norway', '1504', '81700\\n']\n",
      "Data 5 :\t ['124', '\"Mini Gifts Distributors Ltd.\"', 'Nelson', 'Susan', '4155551450', '\"5677 Strong St.\"', 'NULL', '\"San Rafael\"', 'CA', '97562', 'USA', '1165', '210500\\n']\n",
      "Data 6 :\t ['125', '\"Havel & Zbyszek Co\"', 'Piestrzeniewicz', '\"Zbyszek \"', '\"(26) 642-7555\"', '\"ul. Filtrowa 68\"', 'NULL', 'Warszawa', 'NULL', '01-012', 'Poland', 'NULL', '0\\n']\n",
      "Data 7 :\t ['128', '\"Blauer See Auto', ' Co.\"', 'Keitel', 'Roland', '\"+49 69 66 90 2555\"', '\"Lyonerstr. 34\"', 'NULL', 'Frankfurt', 'NULL', '60528', 'Germany', '1504', '59700\\n']\n",
      "Data 8 :\t ['129', '\"Mini Wheels Co.\"', 'Murphy', 'Julie', '6505555787', '\"5557 North Pendale Street\"', 'NULL', '\"San Francisco\"', 'CA', '94217', 'USA', '1165', '64600\\n']\n",
      "Data 9 :\t ['131', '\"Land of Toys Inc.\"', 'Lee', 'Kwai', '2125557818', '\"897 Long Airport Avenue\"', 'NULL', 'NYC', 'NY', '10022', 'USA', '1323', '114900\\n']\n",
      "122\n"
     ]
    }
   ],
   "source": [
    "line_counter = 0\n",
    "data_header = []\n",
    "customer_list = []\n",
    "\n",
    "\n",
    "with open(\"customers.csv\") as customer_data:\n",
    "    while True:\n",
    "        data = customer_data.readline()\n",
    "        if not data: break\n",
    "        if line_counter == 0:\n",
    "            data_header = data.split(\",\")\n",
    "        else:\n",
    "            customer_list.append(data.split(\",\"))\n",
    "        line_counter += 1\n",
    "print(\"Header : \", data_header)\n",
    "for i in range(0,10):\n",
    "    print(\"Data\",i,\":\\t\",customer_list[i])\n",
    "print(len(customer_list))"
   ]
  },
  {
   "cell_type": "code",
   "execution_count": 16,
   "id": "7c02fae0",
   "metadata": {
    "ExecuteTime": {
     "end_time": "2022-06-30T08:57:30.851587Z",
     "start_time": "2022-06-30T08:57:30.740047Z"
    }
   },
   "outputs": [],
   "source": [
    "import csv\n",
    "seoung_nam_data = []\n",
    "header = []\n",
    "rownum = 0\n",
    "\n",
    "with open(\"korea_foot_traffic_data.csv\",\"r\",encoding = \"utf8\") as p_file:\n",
    "    csv_data = csv.reader(p_file)\n",
    "    for row in csv_data:\n",
    "        if rownum == 0:\n",
    "            header = row\n",
    "        location = row[7]\n",
    "        if location.find(u\"성남시\") != -1: #u를 앞에 붙여주는 이유는 유니코드의 u, 한글사용시 주로 이용\n",
    "            seoung_nam_data.append(row)\n",
    "        rownum += 1\n",
    "\n",
    "with open(\"seoung_nam_foot_traffic_data.csv\",\"w\",encoding = \"utf8\") as s_p_file:\n",
    "    writer = csv.writer(s_p_file, delimiter = \"\\t\", quotechar = \"'\", quoting = csv.QUOTE_ALL)\n",
    "    writer.writerow(header)\n",
    "    for row in seoung_nam_data:\n",
    "        writer.writerow(row)"
   ]
  },
  {
   "cell_type": "markdown",
   "id": "dd2abbb9",
   "metadata": {
    "ExecuteTime": {
     "end_time": "2022-06-30T08:54:27.618168Z",
     "start_time": "2022-06-30T08:54:27.611492Z"
    }
   },
   "source": [
    "# Web"
   ]
  },
  {
   "cell_type": "code",
   "execution_count": 18,
   "id": "128ba5f4",
   "metadata": {
    "ExecuteTime": {
     "end_time": "2022-06-30T09:30:19.207883Z",
     "start_time": "2022-06-30T09:30:18.818745Z"
    }
   },
   "outputs": [
    {
     "name": "stdout",
     "output_type": "stream",
     "text": [
      "codo***\n",
      "outb7***\n",
      "dubba4***\n",
      "multicuspi***\n",
      "crownm***\n",
      "triformo***\n",
      "spania***\n",
      "magazin***\n",
      "presby***\n",
      "trophody***\n",
      "nontr***\n",
      "enranck***\n",
      "canc***\n",
      "uncanker***\n",
      "wrymo***\n",
      "non***\n",
      "luminat***\n",
      "oblig***\n",
      "anna***\n",
      "hyperth***\n",
      "toplabl***\n",
      "dolce0***\n",
      "rudals2***\n",
      "jjw980***\n",
      "elvlz***\n",
      "skmid***\n",
      "qkep***\n",
      "kisslov***\n",
      "maskman***\n",
      "sungt***\n"
     ]
    }
   ],
   "source": [
    "import re\n",
    "import urllib.request\n",
    "\n",
    "url = \"https://bit.ly/3rxQFS4\"\n",
    "html = urllib.request.urlopen(url)\n",
    "html_contents = str(html.read())\n",
    "id_results = re.findall(r\"([A-Za-z0-9]+\\*\\*\\*)\", html_contents)\n",
    "\n",
    "for result in id_results:\n",
    "    print(result)"
   ]
  },
  {
   "cell_type": "code",
   "execution_count": 20,
   "id": "f06c5a63",
   "metadata": {
    "ExecuteTime": {
     "end_time": "2022-06-30T09:41:09.581928Z",
     "start_time": "2022-06-30T09:41:09.361684Z"
    }
   },
   "outputs": [
    {
     "name": "stdout",
     "output_type": "stream",
     "text": [
      "2022년 06월 30일 16시 11분 기준 장마감\n",
      "종목명 삼성전자\n",
      "종목코드 005930 코스피\n",
      "현재가 57,000 전일대비 하락 1,000 마이너스 1.72 퍼센트\n",
      "전일가 58,000\n",
      "시가 57,200\n",
      "고가 57,600\n",
      "상한가 75,400\n",
      "저가 57,000\n",
      "하한가 40,600\n",
      "거래량 18,558,542\n",
      "거래대금 1,062,455백만\n"
     ]
    }
   ],
   "source": [
    "url = \"https://finance.naver.com/item/main.nhn?code=005930\"\n",
    "html = urllib.request.urlopen(url)\n",
    "html_contents = str(html.read().decode(\"ms949\"))\n",
    "\n",
    "stock_results = re.findall(\"(\\<dl class=\\\"blind\\\"\\>)([\\s\\S]+?)(\\<\\/dl\\>)\",html_contents)\n",
    "sansung_stock = stock_results[0]\n",
    "samsung_index = sansung_stock[1]\n",
    "\n",
    "index_list = re.findall(\"(\\<dd\\>)([\\s\\S]+?)(\\<\\/dd\\>)\",samsung_index)\n",
    "\n",
    "for index in index_list:\n",
    "    print(index[1])"
   ]
  }
 ],
 "metadata": {
  "kernelspec": {
   "display_name": "Python 3 (ipykernel)",
   "language": "python",
   "name": "python3"
  },
  "language_info": {
   "codemirror_mode": {
    "name": "ipython",
    "version": 3
   },
   "file_extension": ".py",
   "mimetype": "text/x-python",
   "name": "python",
   "nbconvert_exporter": "python",
   "pygments_lexer": "ipython3",
   "version": "3.9.7"
  },
  "toc": {
   "base_numbering": 1,
   "nav_menu": {},
   "number_sections": true,
   "sideBar": true,
   "skip_h1_title": false,
   "title_cell": "Table of Contents",
   "title_sidebar": "Contents",
   "toc_cell": false,
   "toc_position": {},
   "toc_section_display": true,
   "toc_window_display": false
  },
  "varInspector": {
   "cols": {
    "lenName": 16,
    "lenType": 16,
    "lenVar": 40
   },
   "kernels_config": {
    "python": {
     "delete_cmd_postfix": "",
     "delete_cmd_prefix": "del ",
     "library": "var_list.py",
     "varRefreshCmd": "print(var_dic_list())"
    },
    "r": {
     "delete_cmd_postfix": ") ",
     "delete_cmd_prefix": "rm(",
     "library": "var_list.r",
     "varRefreshCmd": "cat(var_dic_list()) "
    }
   },
   "types_to_exclude": [
    "module",
    "function",
    "builtin_function_or_method",
    "instance",
    "_Feature"
   ],
   "window_display": false
  }
 },
 "nbformat": 4,
 "nbformat_minor": 5
}
