{
 "cells": [
  {
   "cell_type": "code",
   "execution_count": 1,
   "id": "cba04fd7",
   "metadata": {
    "ExecuteTime": {
     "end_time": "2022-07-11T07:12:38.697917Z",
     "start_time": "2022-07-11T07:12:38.693951Z"
    }
   },
   "outputs": [],
   "source": [
    "import numpy as np"
   ]
  },
  {
   "cell_type": "markdown",
   "id": "e14821ef",
   "metadata": {},
   "source": [
    "# shape, dtype"
   ]
  },
  {
   "cell_type": "code",
   "execution_count": 14,
   "id": "27547735",
   "metadata": {
    "ExecuteTime": {
     "end_time": "2022-07-11T07:47:30.378845Z",
     "start_time": "2022-07-11T07:47:30.364667Z"
    }
   },
   "outputs": [
    {
     "name": "stdout",
     "output_type": "stream",
     "text": [
      "[[1. 4. 5. 8.]\n",
      " [2. 4. 1. 4.]] \n",
      "\n",
      "float64\n",
      "(2, 4)\n",
      "8\n",
      "64\n"
     ]
    }
   ],
   "source": [
    "test_array = np.array([[1,4,5,8],[2,4,1,4]], float)\n",
    "print(test_array,\"\\n\")\n",
    "print(test_array.dtype)\n",
    "print(test_array.shape)\n",
    "print(test_array.size)\n",
    "print(test_array.nbytes)"
   ]
  },
  {
   "cell_type": "markdown",
   "id": "2670375d",
   "metadata": {
    "ExecuteTime": {
     "end_time": "2022-07-11T07:19:01.905146Z",
     "start_time": "2022-07-11T07:19:01.889586Z"
    }
   },
   "source": [
    "# reshape"
   ]
  },
  {
   "cell_type": "code",
   "execution_count": 24,
   "id": "398062e6",
   "metadata": {
    "ExecuteTime": {
     "end_time": "2022-07-11T07:52:21.782698Z",
     "start_time": "2022-07-11T07:52:21.774729Z"
    }
   },
   "outputs": [
    {
     "name": "stdout",
     "output_type": "stream",
     "text": [
      "(2, 4)\n",
      "(8,) \n",
      "\n",
      "[[1 2]\n",
      " [3 4]\n",
      " [1 2]\n",
      " [5 8]] \n",
      "\n",
      "[[[1 2]\n",
      "  [3 4]]\n",
      "\n",
      " [[1 2]\n",
      "  [5 8]]] \n",
      "\n",
      "[[[1 2]\n",
      "  [3 4]\n",
      "  [1 2]\n",
      "  [5 8]]]\n"
     ]
    }
   ],
   "source": [
    "test_matrix = np.array([[1,2,3,4],[1,2,5,8]])\n",
    "print(test_matrix.shape)\n",
    "print(test_matrix.reshape(8,).shape,\"\\n\")\n",
    "\n",
    "print(test_matrix.reshape(4,2),\"\\n\")\n",
    "print(test_matrix.reshape(2,2,2),\"\\n\")\n",
    "\n",
    "print(test_matrix.reshape(1,-1,2))"
   ]
  },
  {
   "cell_type": "markdown",
   "id": "4070a106",
   "metadata": {},
   "source": [
    "# flatten"
   ]
  },
  {
   "cell_type": "code",
   "execution_count": 28,
   "id": "2772ed36",
   "metadata": {
    "ExecuteTime": {
     "end_time": "2022-07-11T07:54:03.125452Z",
     "start_time": "2022-07-11T07:54:03.118615Z"
    }
   },
   "outputs": [
    {
     "data": {
      "text/plain": [
       "array([[[1, 2, 3, 4],\n",
       "        [1, 2, 5, 8]],\n",
       "\n",
       "       [[1, 2, 3, 4],\n",
       "        [1, 2, 5, 8]]])"
      ]
     },
     "execution_count": 28,
     "metadata": {},
     "output_type": "execute_result"
    }
   ],
   "source": [
    "test_matrix = np.array([[[1,2,3,4],[1,2,5,8]],[[1,2,3,4],[1,2,5,8]]])\n",
    "test_matrix"
   ]
  },
  {
   "cell_type": "code",
   "execution_count": 30,
   "id": "f186b9bb",
   "metadata": {
    "ExecuteTime": {
     "end_time": "2022-07-11T07:54:18.336315Z",
     "start_time": "2022-07-11T07:54:18.330968Z"
    }
   },
   "outputs": [
    {
     "data": {
      "text/plain": [
       "array([1, 2, 3, 4, 1, 2, 5, 8, 1, 2, 3, 4, 1, 2, 5, 8])"
      ]
     },
     "execution_count": 30,
     "metadata": {},
     "output_type": "execute_result"
    }
   ],
   "source": [
    "test_matrix.flatten()"
   ]
  },
  {
   "cell_type": "markdown",
   "id": "7ffaaa88",
   "metadata": {
    "ExecuteTime": {
     "end_time": "2022-07-11T07:55:36.374523Z",
     "start_time": "2022-07-11T07:55:36.371433Z"
    }
   },
   "source": [
    "# indexing slicing"
   ]
  },
  {
   "cell_type": "code",
   "execution_count": 33,
   "id": "1a7ac21c",
   "metadata": {
    "ExecuteTime": {
     "end_time": "2022-07-11T07:56:14.775716Z",
     "start_time": "2022-07-11T07:56:14.768318Z"
    }
   },
   "outputs": [
    {
     "data": {
      "text/plain": [
       "array([[1, 2, 3],\n",
       "       [4, 5, 6]])"
      ]
     },
     "execution_count": 33,
     "metadata": {},
     "output_type": "execute_result"
    }
   ],
   "source": [
    "a = np.array([[1,2,3],[4.5,5,6]],int)\n",
    "a"
   ]
  },
  {
   "cell_type": "code",
   "execution_count": 37,
   "id": "a6d98b2c",
   "metadata": {
    "ExecuteTime": {
     "end_time": "2022-07-11T07:56:37.578319Z",
     "start_time": "2022-07-11T07:56:37.571531Z"
    }
   },
   "outputs": [
    {
     "data": {
      "text/plain": [
       "array([[10,  2,  3],\n",
       "       [ 4,  5,  6]])"
      ]
     },
     "execution_count": 37,
     "metadata": {},
     "output_type": "execute_result"
    }
   ],
   "source": [
    "a[0,0] == a[0][0]\n",
    "a[0,0] = 10\n",
    "a"
   ]
  },
  {
   "cell_type": "code",
   "execution_count": 41,
   "id": "7ddc41fe",
   "metadata": {
    "ExecuteTime": {
     "end_time": "2022-07-11T08:46:21.566220Z",
     "start_time": "2022-07-11T08:46:21.559587Z"
    }
   },
   "outputs": [
    {
     "data": {
      "text/plain": [
       "array([[ 1,  2,  3,  4,  5],\n",
       "       [ 6,  7,  8,  9, 10]])"
      ]
     },
     "execution_count": 41,
     "metadata": {},
     "output_type": "execute_result"
    }
   ],
   "source": [
    "a = np.array([[1,2,3,4,5,],[6,7,8,9,10]])\n",
    "a"
   ]
  },
  {
   "cell_type": "code",
   "execution_count": 40,
   "id": "b57efffb",
   "metadata": {
    "ExecuteTime": {
     "end_time": "2022-07-11T08:46:18.910432Z",
     "start_time": "2022-07-11T08:46:18.904782Z"
    }
   },
   "outputs": [
    {
     "data": {
      "text/plain": [
       "array([[ 3,  4,  5],\n",
       "       [ 8,  9, 10]])"
      ]
     },
     "execution_count": 40,
     "metadata": {},
     "output_type": "execute_result"
    }
   ],
   "source": [
    "a[:,2:]"
   ]
  },
  {
   "cell_type": "code",
   "execution_count": 47,
   "id": "9913805d",
   "metadata": {
    "ExecuteTime": {
     "end_time": "2022-07-11T08:55:15.681996Z",
     "start_time": "2022-07-11T08:55:15.676458Z"
    }
   },
   "outputs": [
    {
     "data": {
      "text/plain": [
       "array([[3, 4]])"
      ]
     },
     "execution_count": 47,
     "metadata": {},
     "output_type": "execute_result"
    }
   ],
   "source": [
    "a[0:1,2:4]"
   ]
  },
  {
   "cell_type": "code",
   "execution_count": 51,
   "id": "38d60f8e",
   "metadata": {
    "ExecuteTime": {
     "end_time": "2022-07-11T08:56:54.386699Z",
     "start_time": "2022-07-11T08:56:54.379404Z"
    }
   },
   "outputs": [
    {
     "data": {
      "text/plain": [
       "array([[1, 3, 5]])"
      ]
     },
     "execution_count": 51,
     "metadata": {},
     "output_type": "execute_result"
    }
   ],
   "source": [
    "a[::2,::2]"
   ]
  },
  {
   "cell_type": "markdown",
   "id": "2adb5fc1",
   "metadata": {},
   "source": [
    "# creation function"
   ]
  },
  {
   "cell_type": "code",
   "execution_count": 52,
   "id": "c5eeb389",
   "metadata": {
    "ExecuteTime": {
     "end_time": "2022-07-11T08:57:34.821219Z",
     "start_time": "2022-07-11T08:57:34.815925Z"
    }
   },
   "outputs": [
    {
     "data": {
      "text/plain": [
       "array([ 0,  1,  2,  3,  4,  5,  6,  7,  8,  9, 10, 11, 12, 13, 14, 15, 16,\n",
       "       17, 18, 19, 20, 21, 22, 23, 24, 25, 26, 27, 28, 29])"
      ]
     },
     "execution_count": 52,
     "metadata": {},
     "output_type": "execute_result"
    }
   ],
   "source": [
    "np.arange(30)"
   ]
  },
  {
   "cell_type": "code",
   "execution_count": 53,
   "id": "be5a1089",
   "metadata": {
    "ExecuteTime": {
     "end_time": "2022-07-11T08:57:46.815745Z",
     "start_time": "2022-07-11T08:57:46.809978Z"
    }
   },
   "outputs": [
    {
     "data": {
      "text/plain": [
       "array([0. , 0.5, 1. , 1.5, 2. , 2.5, 3. , 3.5, 4. , 4.5])"
      ]
     },
     "execution_count": 53,
     "metadata": {},
     "output_type": "execute_result"
    }
   ],
   "source": [
    "np.arange(0,5,0.5)"
   ]
  },
  {
   "cell_type": "code",
   "execution_count": 56,
   "id": "16608d6d",
   "metadata": {
    "ExecuteTime": {
     "end_time": "2022-07-11T08:58:09.643464Z",
     "start_time": "2022-07-11T08:58:09.636346Z"
    }
   },
   "outputs": [
    {
     "data": {
      "text/plain": [
       "array([[ 0,  1,  2,  3,  4,  5],\n",
       "       [ 6,  7,  8,  9, 10, 11],\n",
       "       [12, 13, 14, 15, 16, 17],\n",
       "       [18, 19, 20, 21, 22, 23],\n",
       "       [24, 25, 26, 27, 28, 29]])"
      ]
     },
     "execution_count": 56,
     "metadata": {},
     "output_type": "execute_result"
    }
   ],
   "source": [
    "np.arange(30).reshape(5,6)"
   ]
  },
  {
   "cell_type": "code",
   "execution_count": 59,
   "id": "e163f9b5",
   "metadata": {
    "ExecuteTime": {
     "end_time": "2022-07-11T08:59:52.969713Z",
     "start_time": "2022-07-11T08:59:52.963866Z"
    }
   },
   "outputs": [
    {
     "data": {
      "text/plain": [
       "array([0, 0, 0, 0, 0, 0, 0, 0, 0, 0], dtype=int8)"
      ]
     },
     "execution_count": 59,
     "metadata": {},
     "output_type": "execute_result"
    }
   ],
   "source": [
    "np.zeros(shape = (10,), dtype = np.int8)"
   ]
  },
  {
   "cell_type": "code",
   "execution_count": 66,
   "id": "1049fef2",
   "metadata": {
    "ExecuteTime": {
     "end_time": "2022-07-11T09:00:24.909156Z",
     "start_time": "2022-07-11T09:00:24.902834Z"
    }
   },
   "outputs": [
    {
     "data": {
      "text/plain": [
       "array([0, 0, 0, 0, 0, 0, 0, 0, 9, 0], dtype=int8)"
      ]
     },
     "execution_count": 66,
     "metadata": {},
     "output_type": "execute_result"
    }
   ],
   "source": [
    "np.empty(shape = (10,), dtype = np.int8)"
   ]
  },
  {
   "cell_type": "code",
   "execution_count": 69,
   "id": "1fe696a0",
   "metadata": {
    "ExecuteTime": {
     "end_time": "2022-07-11T09:04:22.404397Z",
     "start_time": "2022-07-11T09:04:22.388835Z"
    }
   },
   "outputs": [
    {
     "data": {
      "text/plain": [
       "array([[1, 0, 0, 0, 0],\n",
       "       [0, 1, 0, 0, 0],\n",
       "       [0, 0, 1, 0, 0],\n",
       "       [0, 0, 0, 1, 0],\n",
       "       [0, 0, 0, 0, 1]], dtype=int8)"
      ]
     },
     "execution_count": 69,
     "metadata": {},
     "output_type": "execute_result"
    }
   ],
   "source": [
    "np.identity(n=5, dtype = np.int8)"
   ]
  },
  {
   "cell_type": "code",
   "execution_count": 71,
   "id": "58e1499b",
   "metadata": {
    "ExecuteTime": {
     "end_time": "2022-07-11T09:05:06.458083Z",
     "start_time": "2022-07-11T09:05:06.452650Z"
    }
   },
   "outputs": [
    {
     "data": {
      "text/plain": [
       "array([[1., 0., 0., 0., 0.],\n",
       "       [0., 1., 0., 0., 0.],\n",
       "       [0., 0., 1., 0., 0.]])"
      ]
     },
     "execution_count": 71,
     "metadata": {},
     "output_type": "execute_result"
    }
   ],
   "source": [
    "np.eye(3,5)"
   ]
  },
  {
   "cell_type": "code",
   "execution_count": 73,
   "id": "1dbeb8fd",
   "metadata": {
    "ExecuteTime": {
     "end_time": "2022-07-11T09:05:19.991409Z",
     "start_time": "2022-07-11T09:05:19.985774Z"
    }
   },
   "outputs": [
    {
     "data": {
      "text/plain": [
       "array([[0., 0., 1., 0., 0.],\n",
       "       [0., 0., 0., 1., 0.],\n",
       "       [0., 0., 0., 0., 1.]])"
      ]
     },
     "execution_count": 73,
     "metadata": {},
     "output_type": "execute_result"
    }
   ],
   "source": [
    "np.eye(3,5,k=2)"
   ]
  },
  {
   "cell_type": "code",
   "execution_count": 78,
   "id": "d8e28df7",
   "metadata": {
    "ExecuteTime": {
     "end_time": "2022-07-11T09:06:20.477552Z",
     "start_time": "2022-07-11T09:06:20.469657Z"
    }
   },
   "outputs": [
    {
     "data": {
      "text/plain": [
       "array([0, 4, 8])"
      ]
     },
     "execution_count": 78,
     "metadata": {},
     "output_type": "execute_result"
    }
   ],
   "source": [
    "matrix = np.arange(0,9).reshape(3,3)\n",
    "np.diag(matrix)"
   ]
  },
  {
   "cell_type": "code",
   "execution_count": 103,
   "id": "db3f7434",
   "metadata": {
    "ExecuteTime": {
     "end_time": "2022-07-11T09:14:59.647561Z",
     "start_time": "2022-07-11T09:14:59.638780Z"
    }
   },
   "outputs": [
    {
     "data": {
      "text/plain": [
       "array([[-1.43028401, -1.88149573, -1.04562057,  0.21730475,  0.00474415,\n",
       "         1.39069761,  1.22544964,  0.79825878, -0.04090174,  0.35860128,\n",
       "        -0.08167372,  1.199762  ,  1.24751466, -0.37515606, -1.43883011,\n",
       "         0.2631261 ,  0.71356644, -1.24041288,  0.47206568,  1.04865884],\n",
       "       [-0.68371653,  1.28077619,  0.63112528,  1.34357641,  2.29790481,\n",
       "         0.02958185, -0.04085122, -0.30884699,  0.1729751 ,  0.28109108,\n",
       "        -1.14501984,  1.83686685, -0.68247064, -1.0874052 ,  0.74612689,\n",
       "        -0.04375569, -0.87947077,  0.50071293,  0.1371596 ,  0.38623905],\n",
       "       [ 1.53419426, -1.28513591,  0.38295652,  0.48878369, -1.92343114,\n",
       "        -0.32290826,  0.22372466,  0.7437895 ,  0.21176512, -0.83130567,\n",
       "         0.89605684, -0.78463694, -2.69879434,  1.08192293, -0.14563415,\n",
       "         0.7914801 ,  0.08057673, -0.58881567,  0.20419581,  0.64484622],\n",
       "       [-0.1494955 , -0.6353217 ,  1.31188115, -0.28994732,  0.59243377,\n",
       "         1.50079401, -0.63867927, -0.35964293, -0.52101116, -1.00892739,\n",
       "         0.64272367, -0.52634825,  1.5745768 , -1.33382688, -0.24604862,\n",
       "         2.32608066, -0.48904499,  0.35532575, -0.4616216 , -0.87712612],\n",
       "       [-0.09690034,  1.39516702, -2.1110765 , -0.39956198, -0.50386296,\n",
       "        -0.82115948, -1.74630695,  1.76781454, -0.60415917,  1.05652205,\n",
       "         0.41143939,  2.38428102, -1.80700237, -1.59573564, -0.99623084,\n",
       "         0.98270312,  0.01030666,  1.64459338, -0.69645788, -0.37103338]])"
      ]
     },
     "execution_count": 103,
     "metadata": {},
     "output_type": "execute_result"
    }
   ],
   "source": [
    "A = np.random.normal(0,1,100).reshape(5,20)\n",
    "A"
   ]
  },
  {
   "cell_type": "code",
   "execution_count": 104,
   "id": "69da20fe",
   "metadata": {
    "ExecuteTime": {
     "end_time": "2022-07-11T09:15:00.047958Z",
     "start_time": "2022-07-11T09:15:00.042186Z"
    }
   },
   "outputs": [
    {
     "data": {
      "text/plain": [
       "3.551718330615147"
      ]
     },
     "execution_count": 104,
     "metadata": {},
     "output_type": "execute_result"
    }
   ],
   "source": [
    "A.sum()"
   ]
  },
  {
   "cell_type": "code",
   "execution_count": 105,
   "id": "4d2ebe45",
   "metadata": {
    "ExecuteTime": {
     "end_time": "2022-07-11T09:15:00.437108Z",
     "start_time": "2022-07-11T09:15:00.426102Z"
    }
   },
   "outputs": [
    {
     "name": "stdout",
     "output_type": "stream",
     "text": [
      "[-0.16524042 -0.22520203 -0.16614682  0.27203111  0.09355773  0.35540115\n",
      " -0.19533263  0.52827458 -0.15626637 -0.02880373  0.14470527  0.82198493\n",
      " -0.47323518 -0.66204017 -0.41612337  0.86392686 -0.11281318  0.1342807\n",
      " -0.06893168  0.16631692]\n",
      "[ 0.07026875  0.23862996 -0.06481849  0.0383387  -0.10483302]\n"
     ]
    },
    {
     "data": {
      "text/plain": [
       "0.03551718330615147"
      ]
     },
     "execution_count": 105,
     "metadata": {},
     "output_type": "execute_result"
    }
   ],
   "source": [
    "print(A.mean(axis=0))\n",
    "print(A.mean(axis=1))\n",
    "A.mean()"
   ]
  },
  {
   "cell_type": "code",
   "execution_count": 106,
   "id": "e24b6d58",
   "metadata": {
    "ExecuteTime": {
     "end_time": "2022-07-11T09:15:00.914863Z",
     "start_time": "2022-07-11T09:15:00.909736Z"
    }
   },
   "outputs": [
    {
     "data": {
      "text/plain": [
       "1.0427869506967478"
      ]
     },
     "execution_count": 106,
     "metadata": {},
     "output_type": "execute_result"
    }
   ],
   "source": [
    "A.std()"
   ]
  },
  {
   "cell_type": "markdown",
   "id": "9ef75ec2",
   "metadata": {
    "ExecuteTime": {
     "end_time": "2022-07-11T09:13:23.339718Z",
     "start_time": "2022-07-11T09:13:23.331174Z"
    }
   },
   "source": [
    "# concatenate"
   ]
  },
  {
   "cell_type": "code",
   "execution_count": 109,
   "id": "7ab23e98",
   "metadata": {
    "ExecuteTime": {
     "end_time": "2022-07-11T09:26:06.282649Z",
     "start_time": "2022-07-11T09:26:06.275900Z"
    }
   },
   "outputs": [
    {
     "data": {
      "text/plain": [
       "array([[1, 2, 3],\n",
       "       [4, 5, 6]])"
      ]
     },
     "execution_count": 109,
     "metadata": {},
     "output_type": "execute_result"
    }
   ],
   "source": [
    "a = np.array([1,2,3])\n",
    "b = np.array([4,5,6])\n",
    "np.vstack((a,b))"
   ]
  },
  {
   "cell_type": "code",
   "execution_count": 110,
   "id": "eec0e095",
   "metadata": {
    "ExecuteTime": {
     "end_time": "2022-07-11T09:26:06.530057Z",
     "start_time": "2022-07-11T09:26:06.522486Z"
    }
   },
   "outputs": [
    {
     "data": {
      "text/plain": [
       "array([1, 2, 3, 4, 5, 6])"
      ]
     },
     "execution_count": 110,
     "metadata": {},
     "output_type": "execute_result"
    }
   ],
   "source": [
    "np.hstack((a,b))"
   ]
  },
  {
   "cell_type": "code",
   "execution_count": 112,
   "id": "ee668c3f",
   "metadata": {
    "ExecuteTime": {
     "end_time": "2022-07-11T09:28:35.462623Z",
     "start_time": "2022-07-11T09:28:35.453286Z"
    }
   },
   "outputs": [
    {
     "name": "stdout",
     "output_type": "stream",
     "text": [
      "b :  [5 6]\n",
      "b :  [[5 6]]\n"
     ]
    },
    {
     "data": {
      "text/plain": [
       "array([[1, 2, 5],\n",
       "       [3, 4, 6]])"
      ]
     },
     "execution_count": 112,
     "metadata": {},
     "output_type": "execute_result"
    }
   ],
   "source": [
    "a = np.array([[1,2],[3,4]])\n",
    "b = np.array([5,6])\n",
    "print(\"b : \", b)\n",
    "b = b[np.newaxis,:]\n",
    "print(\"b : \", b)\n",
    "np.concatenate((a,b.T), axis = 1)"
   ]
  },
  {
   "cell_type": "code",
   "execution_count": 115,
   "id": "81b4ebf2",
   "metadata": {
    "ExecuteTime": {
     "end_time": "2022-07-11T09:29:39.979722Z",
     "start_time": "2022-07-11T09:29:39.971825Z"
    }
   },
   "outputs": [
    {
     "data": {
      "text/plain": [
       "array([[ 2.,  4.,  6.],\n",
       "       [ 8., 10., 12.],\n",
       "       [14., 16., 18.]])"
      ]
     },
     "execution_count": 115,
     "metadata": {},
     "output_type": "execute_result"
    }
   ],
   "source": [
    "test_a = np.array([[1,2,3],[4,5,6],[7,8,9]], float)\n",
    "test_a + test_a"
   ]
  },
  {
   "cell_type": "code",
   "execution_count": 116,
   "id": "4c14ea14",
   "metadata": {
    "ExecuteTime": {
     "end_time": "2022-07-11T09:29:54.314820Z",
     "start_time": "2022-07-11T09:29:54.308948Z"
    }
   },
   "outputs": [
    {
     "data": {
      "text/plain": [
       "array([[ 1.,  4.,  9.],\n",
       "       [16., 25., 36.],\n",
       "       [49., 64., 81.]])"
      ]
     },
     "execution_count": 116,
     "metadata": {},
     "output_type": "execute_result"
    }
   ],
   "source": [
    "test_a * test_a"
   ]
  },
  {
   "cell_type": "code",
   "execution_count": 118,
   "id": "292849af",
   "metadata": {
    "ExecuteTime": {
     "end_time": "2022-07-11T09:30:32.806574Z",
     "start_time": "2022-07-11T09:30:32.799487Z"
    }
   },
   "outputs": [
    {
     "data": {
      "text/plain": [
       "array([[ 1.,  4.,  9.],\n",
       "       [ 4., 10., 18.],\n",
       "       [ 7., 16., 27.]])"
      ]
     },
     "execution_count": 118,
     "metadata": {},
     "output_type": "execute_result"
    }
   ],
   "source": [
    "test_a * test_a[0,:]"
   ]
  },
  {
   "cell_type": "code",
   "execution_count": 131,
   "id": "44f934d7",
   "metadata": {
    "ExecuteTime": {
     "end_time": "2022-07-11T09:39:36.946383Z",
     "start_time": "2022-07-11T09:39:36.938692Z"
    }
   },
   "outputs": [
    {
     "data": {
      "text/plain": [
       "array([[ 24.,  30.,  36.],\n",
       "       [ 51.,  66.,  81.],\n",
       "       [ 78., 102., 126.]])"
      ]
     },
     "execution_count": 131,
     "metadata": {},
     "output_type": "execute_result"
    }
   ],
   "source": [
    "test_b = np.arange(9).reshape(3,3)\n",
    "test_a.dot(test_b)"
   ]
  },
  {
   "cell_type": "code",
   "execution_count": 132,
   "id": "6b5b8e3c",
   "metadata": {
    "ExecuteTime": {
     "end_time": "2022-07-11T09:39:47.068475Z",
     "start_time": "2022-07-11T09:39:47.061284Z"
    }
   },
   "outputs": [
    {
     "data": {
      "text/plain": [
       "array([[1., 4., 7.],\n",
       "       [2., 5., 8.],\n",
       "       [3., 6., 9.]])"
      ]
     },
     "execution_count": 132,
     "metadata": {},
     "output_type": "execute_result"
    }
   ],
   "source": [
    "test_a.T"
   ]
  },
  {
   "cell_type": "code",
   "execution_count": 133,
   "id": "a9e98b30",
   "metadata": {
    "ExecuteTime": {
     "end_time": "2022-07-11T09:40:44.192085Z",
     "start_time": "2022-07-11T09:40:44.184655Z"
    }
   },
   "outputs": [
    {
     "data": {
      "text/plain": [
       "array([[ 4.,  5.,  6.],\n",
       "       [ 7.,  8.,  9.],\n",
       "       [10., 11., 12.]])"
      ]
     },
     "execution_count": 133,
     "metadata": {},
     "output_type": "execute_result"
    }
   ],
   "source": [
    "test_a + 3"
   ]
  },
  {
   "cell_type": "code",
   "execution_count": 134,
   "id": "d4009e9e",
   "metadata": {
    "ExecuteTime": {
     "end_time": "2022-07-11T09:43:06.048557Z",
     "start_time": "2022-07-11T09:43:06.042797Z"
    }
   },
   "outputs": [
    {
     "data": {
      "text/plain": [
       "array([[ 1.,  3.,  5.],\n",
       "       [ 4.,  6.,  8.],\n",
       "       [ 7.,  9., 11.]])"
      ]
     },
     "execution_count": 134,
     "metadata": {},
     "output_type": "execute_result"
    }
   ],
   "source": [
    "test_a + np.arange(3).reshape(3,)"
   ]
  },
  {
   "cell_type": "markdown",
   "id": "b5223615",
   "metadata": {},
   "source": [
    "# comparisons"
   ]
  },
  {
   "cell_type": "code",
   "execution_count": 136,
   "id": "50995d06",
   "metadata": {
    "ExecuteTime": {
     "end_time": "2022-07-11T09:59:08.526810Z",
     "start_time": "2022-07-11T09:59:08.523531Z"
    }
   },
   "outputs": [],
   "source": [
    "a = np.arange(10)"
   ]
  },
  {
   "cell_type": "code",
   "execution_count": 137,
   "id": "31716635",
   "metadata": {
    "ExecuteTime": {
     "end_time": "2022-07-11T09:59:12.700894Z",
     "start_time": "2022-07-11T09:59:12.694232Z"
    }
   },
   "outputs": [
    {
     "data": {
      "text/plain": [
       "array([ True,  True,  True,  True, False, False, False, False, False,\n",
       "       False])"
      ]
     },
     "execution_count": 137,
     "metadata": {},
     "output_type": "execute_result"
    }
   ],
   "source": [
    "a < 4"
   ]
  },
  {
   "cell_type": "code",
   "execution_count": 138,
   "id": "34fdee9a",
   "metadata": {
    "ExecuteTime": {
     "end_time": "2022-07-11T09:59:23.653649Z",
     "start_time": "2022-07-11T09:59:23.647474Z"
    }
   },
   "outputs": [
    {
     "data": {
      "text/plain": [
       "True"
      ]
     },
     "execution_count": 138,
     "metadata": {},
     "output_type": "execute_result"
    }
   ],
   "source": [
    "np.all(a<10)"
   ]
  },
  {
   "cell_type": "code",
   "execution_count": 139,
   "id": "21dcce6d",
   "metadata": {
    "ExecuteTime": {
     "end_time": "2022-07-11T09:59:31.082591Z",
     "start_time": "2022-07-11T09:59:31.077562Z"
    }
   },
   "outputs": [
    {
     "data": {
      "text/plain": [
       "True"
      ]
     },
     "execution_count": 139,
     "metadata": {},
     "output_type": "execute_result"
    }
   ],
   "source": [
    "np.any(a<5)"
   ]
  },
  {
   "cell_type": "code",
   "execution_count": 140,
   "id": "2988efb7",
   "metadata": {
    "ExecuteTime": {
     "end_time": "2022-07-11T10:01:24.170832Z",
     "start_time": "2022-07-11T10:01:24.164126Z"
    }
   },
   "outputs": [
    {
     "data": {
      "text/plain": [
       "array([False, False,  True])"
      ]
     },
     "execution_count": 140,
     "metadata": {},
     "output_type": "execute_result"
    }
   ],
   "source": [
    "test_a = np.array([1,3,5], float)\n",
    "test_b = np.array([5,3,1], float)\n",
    "test_a > test_b"
   ]
  },
  {
   "cell_type": "code",
   "execution_count": 141,
   "id": "b9d58440",
   "metadata": {
    "ExecuteTime": {
     "end_time": "2022-07-11T10:01:37.048726Z",
     "start_time": "2022-07-11T10:01:37.043522Z"
    }
   },
   "outputs": [
    {
     "data": {
      "text/plain": [
       "array([False,  True, False])"
      ]
     },
     "execution_count": 141,
     "metadata": {},
     "output_type": "execute_result"
    }
   ],
   "source": [
    "test_a == test_b"
   ]
  },
  {
   "cell_type": "code",
   "execution_count": 142,
   "id": "394ee0d1",
   "metadata": {
    "ExecuteTime": {
     "end_time": "2022-07-11T10:04:03.744571Z",
     "start_time": "2022-07-11T10:04:03.737963Z"
    }
   },
   "outputs": [
    {
     "data": {
      "text/plain": [
       "array([2, 3, 3, 3, 3, 3, 3, 3, 3, 3])"
      ]
     },
     "execution_count": 142,
     "metadata": {},
     "output_type": "execute_result"
    }
   ],
   "source": [
    "np.where(a > 0, 3, 2)\n",
    "\n",
    "#np.isnan\n",
    "#np.isfinite"
   ]
  },
  {
   "cell_type": "code",
   "execution_count": 144,
   "id": "5ba24d33",
   "metadata": {
    "ExecuteTime": {
     "end_time": "2022-07-11T10:06:20.663909Z",
     "start_time": "2022-07-11T10:06:20.657174Z"
    }
   },
   "outputs": [
    {
     "data": {
      "text/plain": [
       "9"
      ]
     },
     "execution_count": 144,
     "metadata": {},
     "output_type": "execute_result"
    }
   ],
   "source": [
    "# index 반환\n",
    "np.argmax(a)"
   ]
  },
  {
   "cell_type": "code",
   "execution_count": 145,
   "id": "30bbcf88",
   "metadata": {
    "ExecuteTime": {
     "end_time": "2022-07-11T10:06:25.149987Z",
     "start_time": "2022-07-11T10:06:25.144818Z"
    }
   },
   "outputs": [
    {
     "data": {
      "text/plain": [
       "0"
      ]
     },
     "execution_count": 145,
     "metadata": {},
     "output_type": "execute_result"
    }
   ],
   "source": [
    "# index 반환\n",
    "np.argmin(a)"
   ]
  },
  {
   "cell_type": "code",
   "execution_count": 148,
   "id": "ea6599e3",
   "metadata": {
    "ExecuteTime": {
     "end_time": "2022-07-11T10:07:42.926975Z",
     "start_time": "2022-07-11T10:07:42.918957Z"
    }
   },
   "outputs": [
    {
     "data": {
      "text/plain": [
       "array([0, 1, 2, 3, 4, 5, 6, 7, 8, 9])"
      ]
     },
     "execution_count": 148,
     "metadata": {},
     "output_type": "execute_result"
    }
   ],
   "source": [
    "# index 반환\n",
    "a.argsort()"
   ]
  },
  {
   "cell_type": "markdown",
   "id": "e6f4823b",
   "metadata": {
    "ExecuteTime": {
     "end_time": "2022-07-11T10:08:43.439000Z",
     "start_time": "2022-07-11T10:08:43.436154Z"
    }
   },
   "source": [
    "# boolean index, fancy index"
   ]
  },
  {
   "cell_type": "code",
   "execution_count": 150,
   "id": "7c5288b6",
   "metadata": {
    "ExecuteTime": {
     "end_time": "2022-07-11T10:09:02.903288Z",
     "start_time": "2022-07-11T10:09:02.897798Z"
    }
   },
   "outputs": [
    {
     "data": {
      "text/plain": [
       "array([4., 5., 8., 4., 4.])"
      ]
     },
     "execution_count": 150,
     "metadata": {},
     "output_type": "execute_result"
    }
   ],
   "source": [
    "test_array[test_array > 3]"
   ]
  },
  {
   "cell_type": "code",
   "execution_count": 157,
   "id": "d240359b",
   "metadata": {
    "ExecuteTime": {
     "end_time": "2022-07-11T10:13:22.001017Z",
     "start_time": "2022-07-11T10:13:21.994183Z"
    }
   },
   "outputs": [
    {
     "data": {
      "text/plain": [
       "array([2., 2., 3., 3., 4., 4., 5., 4.])"
      ]
     },
     "execution_count": 157,
     "metadata": {},
     "output_type": "execute_result"
    }
   ],
   "source": [
    "a = np.array([1,2,3,4,5],float)\n",
    "b = np.array([1,1,2,2,3,3,4,3], int)\n",
    "a.take(b)"
   ]
  },
  {
   "cell_type": "code",
   "execution_count": null,
   "id": "8b173da0",
   "metadata": {},
   "outputs": [],
   "source": []
  }
 ],
 "metadata": {
  "kernelspec": {
   "display_name": "Python 3 (ipykernel)",
   "language": "python",
   "name": "python3"
  },
  "language_info": {
   "codemirror_mode": {
    "name": "ipython",
    "version": 3
   },
   "file_extension": ".py",
   "mimetype": "text/x-python",
   "name": "python",
   "nbconvert_exporter": "python",
   "pygments_lexer": "ipython3",
   "version": "3.9.7"
  },
  "toc": {
   "base_numbering": 1,
   "nav_menu": {},
   "number_sections": true,
   "sideBar": true,
   "skip_h1_title": false,
   "title_cell": "Table of Contents",
   "title_sidebar": "Contents",
   "toc_cell": false,
   "toc_position": {},
   "toc_section_display": true,
   "toc_window_display": false
  },
  "varInspector": {
   "cols": {
    "lenName": 16,
    "lenType": 16,
    "lenVar": 40
   },
   "kernels_config": {
    "python": {
     "delete_cmd_postfix": "",
     "delete_cmd_prefix": "del ",
     "library": "var_list.py",
     "varRefreshCmd": "print(var_dic_list())"
    },
    "r": {
     "delete_cmd_postfix": ") ",
     "delete_cmd_prefix": "rm(",
     "library": "var_list.r",
     "varRefreshCmd": "cat(var_dic_list()) "
    }
   },
   "types_to_exclude": [
    "module",
    "function",
    "builtin_function_or_method",
    "instance",
    "_Feature"
   ],
   "window_display": false
  }
 },
 "nbformat": 4,
 "nbformat_minor": 5
}
